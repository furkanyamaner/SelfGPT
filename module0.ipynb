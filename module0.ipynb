{
 "cells": [
  {
   "cell_type": "code",
   "execution_count": 8,
   "id": "ed47354d",
   "metadata": {},
   "outputs": [
    {
     "data": {
      "text/plain": [
       "['The', 'capital', 'of', 'France', 'is']"
      ]
     },
     "execution_count": 8,
     "metadata": {},
     "output_type": "execute_result"
    }
   ],
   "source": [
    "import pandas as pd\n",
    "import numpy as np\n",
    "from sklearn.model_selection import train_test_split\n",
    "import torch as pt\n",
    "from torch import nn, optim\n",
    "\n",
    "import tiktoken \n",
    "\n",
    "text1 = \"The cat chased the dog.\"\n",
    "text2 = \"The dog chased the cat.\"\n",
    "text = \"The capital of France is\"\n",
    "\n",
    "# Basic text tokenization function\n",
    "def tokenize_text(text):\n",
    "    return text.split()\n",
    "tokenize_text(text)"
   ]
  },
  {
   "cell_type": "code",
   "execution_count": 17,
   "id": "409f484b",
   "metadata": {},
   "outputs": [
    {
     "data": {
      "text/plain": [
       "[0, 1, 3, 9, 2]"
      ]
     },
     "execution_count": 17,
     "metadata": {},
     "output_type": "execute_result"
    }
   ],
   "source": [
    "# Gelişmiş tokenizasyon fonksiyonu\n",
    "import json\n",
    "text1 = \"The cat chased the dog\"\n",
    "with open(\"tokenizer.json\", \"r\") as f:\n",
    "    vocab = json.load(f)\n",
    "\n",
    "def tokenize_text2(text):\n",
    "    parts = text.split()\n",
    "    ids = []\n",
    "    for part in parts:\n",
    "        if part in vocab:  # Check if the word exists in vocab\n",
    "            value = vocab[part]  # Get the value directly\n",
    "        else:\n",
    "            value = vocab[\"<unk>\"]  # Use <unk> for unknown words\n",
    "        ids.append(value)\n",
    "\n",
    "    return ids\n",
    "\n",
    "token_ids = tokenize_text2(text1)\n",
    "token_ids\n",
    "\n"
   ]
  },
  {
   "cell_type": "code",
   "execution_count": 37,
   "id": "4753783b",
   "metadata": {},
   "outputs": [
    {
     "data": {
      "text/plain": [
       "{0: 'The',\n",
       " 1: 'cat',\n",
       " 2: 'dog',\n",
       " 3: 'chased',\n",
       " 4: 'capital',\n",
       " 5: 'of',\n",
       " 6: 'France',\n",
       " 7: 'is',\n",
       " 8: '<unk>',\n",
       " 9: 'the'}"
      ]
     },
     "execution_count": 37,
     "metadata": {},
     "output_type": "execute_result"
    }
   ],
   "source": [
    "reverse_vocab = {id: part for part, id in vocab.items() }\n",
    "reverse_vocab"
   ]
  },
  {
   "cell_type": "code",
   "execution_count": 39,
   "id": "2c7dec4e",
   "metadata": {},
   "outputs": [
    {
     "data": {
      "text/plain": [
       "'The cat chased the dog'"
      ]
     },
     "execution_count": 39,
     "metadata": {},
     "output_type": "execute_result"
    }
   ],
   "source": [
    "token_ids = tokenize_text2(text1)\n",
    "def detokenize(ids):\n",
    "    text = \"\"\n",
    "    for id in ids:\n",
    "        part = reverse_vocab.get(id)\n",
    "        text += part + \" \"\n",
    "    text = text.strip()  # Remove trailing space\n",
    "    return text\n",
    "\n",
    "detokenize(token_ids)"
   ]
  },
  {
   "cell_type": "code",
   "execution_count": 8,
   "id": "ede231f4",
   "metadata": {},
   "outputs": [
    {
     "data": {
      "text/plain": [
       "[464, 3797, 26172, 262, 3290]"
      ]
     },
     "execution_count": 8,
     "metadata": {},
     "output_type": "execute_result"
    }
   ],
   "source": [
    "import tiktoken\n",
    "# tiktoken kullanarak tokenizasyon\n",
    "enc = tiktoken.get_encoding(\"gpt2\")\n",
    "gpt2_token_ids = enc.encode(text1)\n",
    "gpt2_token_ids"
   ]
  },
  {
   "cell_type": "code",
   "execution_count": 9,
   "id": "862556f6",
   "metadata": {},
   "outputs": [
    {
     "data": {
      "text/plain": [
       "'The cat chased the dog'"
      ]
     },
     "execution_count": 9,
     "metadata": {},
     "output_type": "execute_result"
    }
   ],
   "source": [
    "enc.decode(gpt2_token_ids)"
   ]
  },
  {
   "cell_type": "code",
   "execution_count": null,
   "id": "da5eac08",
   "metadata": {},
   "outputs": [
    {
     "data": {
      "text/plain": [
       "[976, 9059, 135896, 290, 6446]"
      ]
     },
     "execution_count": 15,
     "metadata": {},
     "output_type": "execute_result"
    }
   ],
   "source": [
    "\n",
    "enc = tiktoken.get_encoding(\"o200k_base\")\n",
    "enc.encode(text1)"
   ]
  },
  {
   "cell_type": "code",
   "execution_count": 7,
   "id": "ff66ec70",
   "metadata": {},
   "outputs": [
    {
     "ename": "ImportError",
     "evalue": "cannot import name 'AutoProcessor' from 'transformers' (/opt/anaconda3/lib/python3.12/site-packages/transformers/__init__.py)",
     "output_type": "error",
     "traceback": [
      "\u001b[0;31m---------------------------------------------------------------------------\u001b[0m",
      "\u001b[0;31mImportError\u001b[0m                               Traceback (most recent call last)",
      "Cell \u001b[0;32mIn[7], line 3\u001b[0m\n\u001b[1;32m      1\u001b[0m \u001b[38;5;66;03m# Load model directly\u001b[39;00m\n\u001b[0;32m----> 3\u001b[0m \u001b[38;5;28;01mfrom\u001b[39;00m \u001b[38;5;21;01mtransformers\u001b[39;00m \u001b[38;5;28;01mimport\u001b[39;00m AutoProcessor\n\u001b[1;32m      5\u001b[0m \u001b[38;5;66;03m# Load the tokenizer\u001b[39;00m\n\u001b[1;32m      6\u001b[0m processor \u001b[38;5;241m=\u001b[39m AutoProcessor\u001b[38;5;241m.\u001b[39mfrom_pretrained(\u001b[38;5;124m\"\u001b[39m\u001b[38;5;124mgoogle/gemma-3n-E4B-it\u001b[39m\u001b[38;5;124m\"\u001b[39m)\n",
      "\u001b[0;31mImportError\u001b[0m: cannot import name 'AutoProcessor' from 'transformers' (/opt/anaconda3/lib/python3.12/site-packages/transformers/__init__.py)"
     ]
    }
   ],
   "source": [
    "# Load model directly\n",
    "\n",
    "from transformers import AutoProcessor\n",
    "\n",
    "# Load the tokenizer\n",
    "processor = AutoProcessor.from_pretrained(\"google/gemma-3n-E4B-it\")\n",
    "\n",
    "# Tokenize text using the tokenizer\n",
    "processor.encode(text1)"
   ]
  }
 ],
 "metadata": {
  "kernelspec": {
   "display_name": "base",
   "language": "python",
   "name": "python3"
  },
  "language_info": {
   "codemirror_mode": {
    "name": "ipython",
    "version": 3
   },
   "file_extension": ".py",
   "mimetype": "text/x-python",
   "name": "python",
   "nbconvert_exporter": "python",
   "pygments_lexer": "ipython3",
   "version": "3.12.4"
  }
 },
 "nbformat": 4,
 "nbformat_minor": 5
}
