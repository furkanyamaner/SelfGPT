{
 "cells": [
  {
   "cell_type": "code",
   "execution_count": 18,
   "id": "ed47354d",
   "metadata": {},
   "outputs": [
    {
     "data": {
      "text/plain": [
       "['The', 'capital', 'of', 'France', 'is']"
      ]
     },
     "execution_count": 18,
     "metadata": {},
     "output_type": "execute_result"
    }
   ],
   "source": [
    "import pandas as pd\n",
    "import numpy as np\n",
    "from sklearn.model_selection import train_test_split\n",
    "import torch as pt\n",
    "from torch import nn, optim\n",
    "\n",
    "import tiktoken \n",
    "\n",
    "text1 = \"The cat chased the dog.\"\n",
    "text2 = \"The dog chased the cat.\"\n",
    "text = \"The capital of France is\"\n",
    "\n",
    "# Basic text tokenization function\n",
    "def tokenize_text(text):\n",
    "    return text.split()\n",
    "tokenize_text(text)"
   ]
  },
  {
   "cell_type": "code",
   "execution_count": 36,
   "id": "409f484b",
   "metadata": {},
   "outputs": [],
   "source": [
    "# Gelişmiş tokenizasyon fonksiyonu\n",
    "text1 = \"The cat chased the dog\"\n",
    "vocab = {\n",
    "    \"The\": 0,\n",
    "    \"cat\": 1,\n",
    "    \"dog\": 2,\n",
    "    \"chased\": 3,\n",
    "    \"capital\" : 4,\n",
    "    \"of\": 5,\n",
    "    \"France\": 6,\n",
    "    \"is\": 7,\n",
    "    \"<unk>\": 8,\n",
    "    \"the\": 9\n",
    "}\n",
    "\n",
    "def tokenize_text2(text):\n",
    "    parts = text.split()\n",
    "    ids = []\n",
    "    for part in parts:\n",
    "        if part in vocab:  # Check if the word exists in vocab\n",
    "            value = vocab[part]  # Get the value directly\n",
    "        else:\n",
    "            value = vocab[\"<unk>\"]  # Use <unk> for unknown words\n",
    "        ids.append(value)\n",
    "\n",
    "    return ids\n",
    "\n",
    "token_ids = tokenize_text2(text1)\n",
    "\n"
   ]
  },
  {
   "cell_type": "code",
   "execution_count": 37,
   "id": "4753783b",
   "metadata": {},
   "outputs": [
    {
     "data": {
      "text/plain": [
       "{0: 'The',\n",
       " 1: 'cat',\n",
       " 2: 'dog',\n",
       " 3: 'chased',\n",
       " 4: 'capital',\n",
       " 5: 'of',\n",
       " 6: 'France',\n",
       " 7: 'is',\n",
       " 8: '<unk>',\n",
       " 9: 'the'}"
      ]
     },
     "execution_count": 37,
     "metadata": {},
     "output_type": "execute_result"
    }
   ],
   "source": [
    "reverse_vocab = {id: part for part, id in vocab.items() }\n",
    "reverse_vocab"
   ]
  },
  {
   "cell_type": "code",
   "execution_count": 39,
   "id": "2c7dec4e",
   "metadata": {},
   "outputs": [
    {
     "data": {
      "text/plain": [
       "'The cat chased the dog'"
      ]
     },
     "execution_count": 39,
     "metadata": {},
     "output_type": "execute_result"
    }
   ],
   "source": [
    "token_ids = tokenize_text2(text1)\n",
    "def detokenize(ids):\n",
    "    text = \"\"\n",
    "    for id in ids:\n",
    "        part = reverse_vocab.get(id)\n",
    "        text += part + \" \"\n",
    "    text = text.strip()  # Remove trailing space\n",
    "    return text\n",
    "\n",
    "detokenize(token_ids)"
   ]
  },
  {
   "cell_type": "code",
   "execution_count": null,
   "id": "ede231f4",
   "metadata": {},
   "outputs": [],
   "source": [
    "# tiktoken kullanarak tokenizasyon\n",
    "enc = tiktoken.get_encoding(\"gpt2\")\n",
    "gpt2_token_ids = enc.encode(text1)\n",
    "gpt2_token_ids"
   ]
  }
 ],
 "metadata": {
  "kernelspec": {
   "display_name": "base",
   "language": "python",
   "name": "python3"
  },
  "language_info": {
   "codemirror_mode": {
    "name": "ipython",
    "version": 3
   },
   "file_extension": ".py",
   "mimetype": "text/x-python",
   "name": "python",
   "nbconvert_exporter": "python",
   "pygments_lexer": "ipython3",
   "version": "3.12.4"
  }
 },
 "nbformat": 4,
 "nbformat_minor": 5
}
